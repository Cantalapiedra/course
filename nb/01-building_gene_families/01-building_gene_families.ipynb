{
 "cells": [
  {
   "cell_type": "markdown",
   "metadata": {},
   "source": [
    "# Building gene families\n",
    "\n",
    "Phylogenetic anlysis can only be performed on sequences that are evolutionarily related. In other words, the first thing we need to do is to organize all gene/protein sequences in our target genomes into families. \n",
    "\n",
    "There are many ways to do this, and different methods and thresholds will produce slighluty different results. \n",
    "\n",
    "For simplicity, here we are reproducing a fast and simple approach, based on a BLAST-like clustering using the programm MMSSeqs2. \n",
    "\n"
   ]
  },
  {
   "cell_type": "code",
   "execution_count": null,
   "metadata": {},
   "outputs": [],
   "source": [
    "%%bash \n",
    "\n",
    "set -x\n",
    "\n",
    "BASE=\"all_prots\"\n",
    "\n",
    "# create mmseqs db\n",
    "./mmseqs_linux createdb --dbtype 1 $BASE.faa $BASE.mmseqs\n",
    "\n",
    "# run relaxed clustering\n",
    "./mmseqs_linux cluster --threads 8 -c 0.1 --cov-mode 5 --cluster-mode 2  $BASE.mmseqs $BASE.clusters.mmseqs tmp/\n",
    "\n",
    "# parse clustering results\n",
    "./mmseqs_linux createtsv $BASE.mmseqs $BASE.mmseqs $BASE.clusters.mmseqs $BASE.clusters.tsv\n",
    "cat  $BASE.clusters.tsv|datamash -g 1 countunique 2 collapse 2 > $BASE.clusters.folded.tsv\n",
    "\n",
    "# Check how many clusters with at least 4 seqs?\n",
    "awk '$2>3 ' $BASE.clusters.folded.tsv|wc -l\n",
    "\n"
   ]
  },
  {
   "cell_type": "markdown",
   "metadata": {},
   "source": [
    "## Once we have inferred all gene families, we can generate a FASTA file for each of them. "
   ]
  },
  {
   "cell_type": "code",
   "execution_count": null,
   "metadata": {},
   "outputs": [],
   "source": [
    "# Lets create fasta files with at least 4 seqs\n",
    "mkdir fasta/ -p "
   ]
  },
  {
   "cell_type": "markdown",
   "metadata": {},
   "source": [
    "Load all sequence into a dictionary. Whenever possible (i.e. you have enough memory), this is a very easy way to look up for sequences. \n",
    "\n",
    "Here we are using the `SeqGroup` object from ETE, but you could parse FASTA file with other tools such as the Biopython `Bio.SeqIO` \n"
   ]
  },
  {
   "cell_type": "code",
   "execution_count": 3,
   "metadata": {},
   "outputs": [
    {
     "name": "stdout",
     "output_type": "stream",
     "text": [
      "Loaded 40385 prot and 41107 gene sequences\n"
     ]
    }
   ],
   "source": [
    "import sys\n",
    "from ete3 import SeqGroup\n",
    "\n",
    "basename = \"all_prots\"\n",
    "\n",
    "# Preload all prot and gene sequences into ETE3 SeqGroup instances. \n",
    "# (note that this may requires much memory if the number of proteoms is high. \n",
    "# In that case, you should switch to a iterative parsing statregy )\n",
    "all_prots = SeqGroup(\"data/%s.faa\" %basename)\n",
    "all_genes = SeqGroup(\"data/%s.fna\" %basename)\n",
    "\n",
    "print(\"Loaded %d prot and %d gene sequences\" %(len(all_prots), len(all_genes)))"
   ]
  },
  {
   "cell_type": "markdown",
   "metadata": {},
   "source": [
    "Let's now read the members of each gene family inferred, and create a FASTA file for them. \n",
    "\n",
    "Note that, for this project example, we will focus only on gene families with 3 o more members.\n"
   ]
  },
  {
   "cell_type": "code",
   "execution_count": 4,
   "metadata": {},
   "outputs": [
    {
     "name": "stdout",
     "output_type": "stream",
     "text": [
      "Missing nt seq:  224324999.sul45501\n",
      "Missing nt seq:  224324999.sul45504\n",
      "Missing nt seq:  224324999.sul45505\n",
      "Missing nt seq:  224324999.sul45503\n",
      "Missing nt seq:  933801.Ahos_17051\n",
      "Missing nt seq:  273063.STK_188951\n",
      "Missing nt seq:  933801.Ahos_17053\n",
      "Missing nt seq:  933801.Ahos_17054\n",
      "Missing nt seq:  273063.STK_188953\n",
      "Missing nt seq:  933801.Ahos_17052\n",
      "Missing nt seq:  273063.STK_188952\n"
     ]
    }
   ],
   "source": [
    "# Read the list of clusters produced and generate FASTA files for all families with 4 or more members.\n",
    "cluster_tsv = \"data/fam_clustering/all_prots.clusters.folded.tsv\"\n",
    "for line in open(cluster_tsv):\n",
    "    cluname, size, raw_members = line.split('\\t')\n",
    "    if int(size) > 3: # Select only if 4 or more members (smaller families cannot)\n",
    "        members = list(map(str.strip, raw_members.split(',')))\n",
    "        with open('data/fasta/%s.faa' %cluname, \"w\") as FAA, open('data/fasta/%s.fna' %cluname, \"w\") as FNA:\n",
    "            for m in members:\n",
    "                print(\">%s\\n%s\" %(m, all_prots.get_seq(m)), file=FAA)\n",
    "                try:\n",
    "                    print(\">%s\\n%s\" %(m, all_genes.get_seq(m)), file=FNA)\n",
    "                except KeyError:\n",
    "                    print(\"Missing nt seq: \", m)\n",
    "                    "
   ]
  }
 ],
 "metadata": {
  "kernelspec": {
   "display_name": "Python 3",
   "language": "python",
   "name": "python3"
  },
  "language_info": {
   "codemirror_mode": {
    "name": "ipython",
    "version": 3
   },
   "file_extension": ".py",
   "mimetype": "text/x-python",
   "name": "python",
   "nbconvert_exporter": "python",
   "pygments_lexer": "ipython3",
   "version": "3.6.11"
  }
 },
 "nbformat": 4,
 "nbformat_minor": 4
}
