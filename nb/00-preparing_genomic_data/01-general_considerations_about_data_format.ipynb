{
 "cells": [
  {
   "cell_type": "markdown",
   "metadata": {},
   "source": [
    "# Preparing your data\n",
    "\n",
    "If you are planning a phylogenomic analysis with ETE, the following consideration will facilitate your analyses.\n",
    "\n",
    "- Save sequences in FASTA format\n",
    "- Verify that the newiline character is consistent and preferably the UNIX type `\\n` \n",
    "- Verify that sequences are consistent: remove `*` and check there are no weird characters\n",
    "- Avoid long FASTA headers. Include only the sequence name, *without spaces*\n",
    "\n",
    "\n",
    "- For conveninece, do not wrap long sequences into several lines. Each entry should be two lines: \n",
    "\n",
    "```\n",
    ">name\n",
    "SEQUENCE\n",
    ">name\n",
    "LONGSEQUENCESEQUENCESEQUENCESEQUENCESEQUENCESEQUENCESEQUENCESEQUENCESEQUENCESEQUENCESEQUENCESEQUENCESEQUENCESEQUENCESEQUENCE\n",
    "```\n",
    "\n",
    "- Use the same format for *all* sequenece names\n",
    "- Avoid the following symbols in the sequence names: `, ; : ( )` They are use in the Newick Tree format and may cause problems\n",
    "- Make sure there are no duplicate names\n",
    "- Make sure the species code is part of the sequence name, and easy to parse. Recommended: `SPCODE.seqname`\n",
    "- When possible, use NCBI taxids as species codes "
   ]
  }
 ],
 "metadata": {
  "kernelspec": {
   "display_name": "Python 3",
   "language": "python",
   "name": "python3"
  },
  "language_info": {
   "codemirror_mode": {
    "name": "ipython",
    "version": 3
   },
   "file_extension": ".py",
   "mimetype": "text/x-python",
   "name": "python",
   "nbconvert_exporter": "python",
   "pygments_lexer": "ipython3",
   "version": "3.6.10"
  }
 },
 "nbformat": 4,
 "nbformat_minor": 4
}
