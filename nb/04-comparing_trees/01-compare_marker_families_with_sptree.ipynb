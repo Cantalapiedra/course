{
 "cells": [
  {
   "cell_type": "code",
   "execution_count": 1,
   "metadata": {},
   "outputs": [],
   "source": [
    "#Load all our trees\n",
    "import pickle\n",
    "\n",
    "def extract_spcode(nodename):\n",
    "    return nodename.split('.')[0]\n",
    "\n",
    "all_trees = pickle.load(open('data/alltrees.pkl', 'rb'))\n",
    "sptree_markers = pickle.load(open('data/sptree_markers.pkl', 'rb'))\n"
   ]
  },
  {
   "cell_type": "markdown",
   "metadata": {},
   "source": [
    "# Compare gene trees vs reference species tree"
   ]
  },
  {
   "cell_type": "code",
   "execution_count": 2,
   "metadata": {},
   "outputs": [],
   "source": [
    "# TASK: Dump all newick string into a file \"marker_newicks.txt\". one newick per line\n",
    "# and export the species attribute as part of the newick \n",
    "\n",
    "with open(\"data/marker_newicks.txt\", \"w\") as NEWICKS: \n",
    "    for tname in sptree_markers:\n",
    "        t = all_trees[tname]\n",
    "        print(t.write(features=[\"species\"]), file=NEWICKS)"
   ]
  },
  {
   "cell_type": "code",
   "execution_count": 3,
   "metadata": {},
   "outputs": [
    {
     "name": "stdout",
     "output_type": "stream",
     "text": [
      "(((933801.Ahos_0739:0.150697[&&NHX:species=933801],273063.STK_02680:0.118573[&&NHX:species=273063])0.994:0.421795[&&NHX:species=],(673860.AciM339_0977:0.0577864[&&NHX:species=673860],263820.PTO0416:0.206158[&&NHX:species=263820])0.791:0.110055[&&NHX:species=])1:0.396335[&&NHX:species=],(1051632.TPY_0322:0.160071[&&NHX:species=1051632],((224324999.sul008:0[&&NHX:species=224324999],224324.aq_008:0[&&NHX:species=224324])1:0.545592[&&NHX:species=],(525897.Dbac_2775:0.252446[&&NHX:species=525897],(((743299.Acife_2711:0.0103803[&&NHX:species=743299],637389.Acaty_c0617:0.00868782[&&NHX:species=637389])0.957:0.0998053[&&NHX:species=],(555778.Hneap_0322:0.138856[&&NHX:species=555778],((1255043.TVNIR_2575:0[&&NHX:species=1255043],713587.THITH_14295:0[&&NHX:species=713587])1:0.0164901[&&NHX:species=],1158165.KB898880_gene1474:0.0147795[&&NHX:species=1158165])0.857:0.0596475[&&NHX:species=])0.985:0.149629[&&NHX:species=])0.945:0.124834[&&NHX:species=],1121405.dsmv_3590:0.188083[&&NHX:species=1121405])0.701:0.0371177[&&NHX:species=])0.728:0.0574878[&&NHX:species=])0.864:0.151295[&&NHX:species=])1:0.396335[&&NHX:species=]);\r\n"
     ]
    }
   ],
   "source": [
    "!head -n1  data/marker_newicks.txt"
   ]
  },
  {
   "cell_type": "code",
   "execution_count": 4,
   "metadata": {},
   "outputs": [
    {
     "name": "stdout",
     "output_type": "stream",
     "text": [
      "source          | ref             | E.size  | nRF     | RF      | maxRF   | src-br+ | ref-br+ | subtre+ | treekoD\r\n",
      "==============+ | ==============+ | ======+ | ======+ | ======+ | ======+ | ======+ | ======+ | ======+ | ======+\r\n",
      "(..):0.150697[+ | data/sptree.nw  | 15      | 0.15    | 4.00    | 26.00   | 0.85    | 0.85    | 1       | NA     \r\n",
      "(..):0.0499937+ | data/sptree.nw  | 15      | 0.31    | 8.00    | 26.00   | 0.69    | 0.69    | 1       | NA     \r\n",
      "(..):0.125104[+ | data/sptree.nw  | 15      | 0.15    | 4.00    | 26.00   | 0.85    | 0.85    | 1       | NA     \r\n",
      "(..):0.0473113+ | data/sptree.nw  | 15      | 0.38    | 10.00   | 26.00   | 0.62    | 0.62    | 1       | NA     \r\n",
      "(..):0.199027[+ | data/sptree.nw  | 15      | 0.08    | 2.00    | 26.00   | 0.92    | 0.92    | 1       | NA     \r\n",
      "(..):0.230297[+ | data/sptree.nw  | 15      | 0.31    | 8.00    | 26.00   | 0.69    | 0.69    | 1       | NA     \r\n",
      "(..)0:0[&&NHX:+ | data/sptree.nw  | 15      | 0.38    | 10.00   | 26.00   | 0.62    | 0.62    | 1       | NA     \r\n",
      "(..):0.209872[+ | data/sptree.nw  | 15      | 0.08    | 2.00    | 26.00   | 0.92    | 0.92    | 1       | NA     \r\n",
      "(..):0.146644[+ | data/sptree.nw  | 15      | 0.08    | 2.00    | 26.00   | 0.92    | 0.92    | 1       | NA     \r\n",
      "(..):0.131338[+ | data/sptree.nw  | 15      | 0.08    | 2.00    | 26.00   | 0.92    | 0.92    | 1       | NA     \r\n",
      "(..):0.183869[+ | data/sptree.nw  | 15      | 0.15    | 4.00    | 26.00   | 0.85    | 0.85    | 1       | NA     \r\n",
      "(..)111:0.2686+ | data/sptree.nw  | 15      | 0.08    | 2.00    | 26.00   | 0.92    | 0.92    | 1       | NA     \r\n",
      "(..):0.173114[+ | data/sptree.nw  | 15      | 0.15    | 4.00    | 26.00   | 0.85    | 0.85    | 1       | NA     \r\n",
      "(..):0.114569[+ | data/sptree.nw  | 15      | 0.00    | 0.00    | 26.00   | 1.00    | 1.00    | 1       | NA     \r\n",
      "(..)&&NHX:spec+ | data/sptree.nw  | 15      | 0.38    | 10.00   | 26.00   | 0.62    | 0.62    | 1       | NA     \r\n",
      "(..):0.318603[+ | data/sptree.nw  | 15      | 0.31    | 8.00    | 26.00   | 0.69    | 0.69    | 1       | NA     \r\n",
      "(..)427163[&&N+ | data/sptree.nw  | 15      | 0.23    | 6.00    | 26.00   | 0.77    | 0.77    | 1       | NA     \r\n",
      "(..):0.221793[+ | data/sptree.nw  | 15      | 0.15    | 4.00    | 26.00   | 0.85    | 0.85    | 1       | NA     \r\n",
      "(..):0.212401[+ | data/sptree.nw  | 15      | 0.15    | 4.00    | 26.00   | 0.85    | 0.85    | 1       | NA     \r\n",
      "(..)654078[&&N+ | data/sptree.nw  | 15      | 0.38    | 10.00   | 26.00   | 0.62    | 0.62    | 1       | NA     \r\n",
      "(..):0.353528[+ | data/sptree.nw  | 15      | 0.08    | 2.00    | 26.00   | 0.92    | 0.92    | 1       | NA     \r\n",
      "(..):0.328076[+ | data/sptree.nw  | 15      | 0.23    | 6.00    | 26.00   | 0.77    | 0.77    | 1       | NA     \r\n",
      "(..):0.228304[+ | data/sptree.nw  | 15      | 0.08    | 2.00    | 26.00   | 0.92    | 0.92    | 1       | NA     \r\n",
      "(..)0.356217[&+ | data/sptree.nw  | 15      | 0.31    | 8.00    | 26.00   | 0.69    | 0.69    | 1       | NA     \r\n",
      "(..):0.261283[+ | data/sptree.nw  | 15      | 0.15    | 4.00    | 26.00   | 0.85    | 0.85    | 1       | NA     \r\n",
      "(..)0.136965[&+ | data/sptree.nw  | 15      | 0.31    | 8.00    | 26.00   | 0.69    | 0.69    | 1       | NA     \r\n",
      "(..):0.176837[+ | data/sptree.nw  | 15      | 0.08    | 2.00    | 26.00   | 0.92    | 0.92    | 1       | NA     \r\n",
      "(..)_gene2187:+ | data/sptree.nw  | 15      | 0.38    | 10.00   | 26.00   | 0.62    | 0.62    | 1       | NA     \r\n",
      "(..)09399[&&NH+ | data/sptree.nw  | 15      | 0.46    | 12.00   | 26.00   | 0.54    | 0.54    | 1       | NA     \r\n",
      "(..):0.155371[+ | data/sptree.nw  | 15      | 0.15    | 4.00    | 26.00   | 0.85    | 0.85    | 1       | NA     \r\n",
      "(..):0.314653[+ | data/sptree.nw  | 15      | 0.00    | 0.00    | 26.00   | 1.00    | 1.00    | 1       | NA     \r\n",
      "(..):0.118713[+ | data/sptree.nw  | 15      | 0.00    | 0.00    | 26.00   | 1.00    | 1.00    | 1       | NA     \r\n",
      "(..):0.153169[+ | data/sptree.nw  | 15      | 0.00    | 0.00    | 26.00   | 1.00    | 1.00    | 1       | NA     \r\n"
     ]
    }
   ],
   "source": [
    "# TASK: Run ete3 compare to measure the Robinson Foulds distance of each marker gene tree to the reference species tree\n",
    "\n",
    "!ete3 compare --src_tree_list \"data/marker_newicks.txt\" -r \"data/sptree.nw\" --src_tree_attr \"species\"\n"
   ]
  },
  {
   "cell_type": "markdown",
   "metadata": {},
   "source": [
    "## Compare trees programmatically "
   ]
  },
  {
   "cell_type": "code",
   "execution_count": 5,
   "metadata": {},
   "outputs": [
    {
     "name": "stdout",
     "output_type": "stream",
     "text": [
      "224324999.sul072\n",
      "273063.STK_12580\n",
      "224324999.sul1945\n",
      "224324999.sul1939\n"
     ]
    }
   ],
   "source": [
    "# TASK: How many gene trees are identical to the species tree? Can you locate them?\n",
    "from ete3 import PhyloTree\n",
    "sptree = PhyloTree('data/sptree.nw')\n",
    "\n",
    "for tname in sptree_markers:\n",
    "    genetree = all_trees[tname]\n",
    "    c = genetree.compare(sptree, source_tree_attr=\"species\")\n",
    "    if c['rf'] == 0:\n",
    "        print (tname)"
   ]
  },
  {
   "cell_type": "code",
   "execution_count": 6,
   "metadata": {},
   "outputs": [
    {
     "name": "stdout",
     "output_type": "stream",
     "text": [
      "Counter({('637389', '743299'): 33,\n",
      "         ('1051632', '1121405', '1158165', '1255043', '224324', '224324999', '263820', '273063', '525897', '555778', '637389', '673860', '713587', '743299', '933801'): 33,\n",
      "         ('224324', '224324999'): 33,\n",
      "         ('273063', '933801'): 33,\n",
      "         ('1255043', '713587'): 32,\n",
      "         ('1158165', '1255043', '713587'): 31,\n",
      "         ('1158165', '1255043', '555778', '637389', '713587', '743299'): 30,\n",
      "         ('263820', '273063', '673860', '933801'): 28,\n",
      "         ('1051632', '1121405', '1158165', '1255043', '224324', '224324999', '525897', '555778', '637389', '713587', '743299'): 28,\n",
      "         ('263820', '673860'): 27,\n",
      "         ('1158165', '1255043', '555778', '713587'): 25,\n",
      "         ('1051632', '1121405', '1158165', '1255043', '525897', '555778', '637389', '713587', '743299'): 20,\n",
      "         ('1121405', '525897'): 17,\n",
      "         ('1121405', '1158165', '1255043', '525897', '555778', '637389', '713587', '743299'): 11})\n"
     ]
    }
   ],
   "source": [
    "      \n",
    "# TASK: is there any clade fully supported? What is the least supported clade?\n",
    "from collections import Counter\n",
    "from pprint import pprint\n",
    "edges = Counter()\n",
    "for tname in sptree_markers:\n",
    "    genetree = all_trees[tname]\n",
    "    c = genetree.compare(sptree, source_tree_attr=\"species\")\n",
    "    edges.update(c[\"common_edges\"])\n",
    "\n",
    "pprint(edges)"
   ]
  }
 ],
 "metadata": {
  "kernelspec": {
   "display_name": "Python 3",
   "language": "python",
   "name": "python3"
  },
  "language_info": {
   "codemirror_mode": {
    "name": "ipython",
    "version": 3
   },
   "file_extension": ".py",
   "mimetype": "text/x-python",
   "name": "python",
   "nbconvert_exporter": "python",
   "pygments_lexer": "ipython3",
   "version": "3.6.11"
  }
 },
 "nbformat": 4,
 "nbformat_minor": 4
}
