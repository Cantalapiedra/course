{
 "cells": [
  {
   "cell_type": "code",
   "execution_count": 3,
   "metadata": {},
   "outputs": [],
   "source": [
    "#Load all our trees\n",
    "import pickle\n",
    "\n",
    "def extract_spcode(nodename):\n",
    "    return nodename.split('.')[0]\n",
    "\n",
    "all_trees = pickle.load(open('data/alltrees.pkl', 'rb'))\n",
    "sptree_markers = pickle.load(open('data/sptree_markers.pkl', 'rb'))\n"
   ]
  },
  {
   "cell_type": "markdown",
   "metadata": {},
   "source": [
    "# Compare gene trees vs reference species tree"
   ]
  },
  {
   "cell_type": "code",
   "execution_count": 4,
   "metadata": {},
   "outputs": [],
   "source": [
    "# TASK: Dump all newick string into a file \"marker_newicks.txt\". one newick per line\n",
    "# and export the species attribute as part of the newick \n",
    "\n",
    "with open(\"data/marker_newicks.txt\", \"w\") as NEWICKS: \n",
    "    for tname in sptree_markers:\n",
    "        t = all_trees[tname]\n",
    "        print(t.write(features=[\"species\"]), file=NEWICKS)"
   ]
  },
  {
   "cell_type": "code",
   "execution_count": 6,
   "metadata": {},
   "outputs": [
    {
     "name": "stdout",
     "output_type": "stream",
     "text": [
      "(((933801.Ahos_0739:0.150673[&&NHX:species=933801],273063.STK_02680:0.118587[&&NHX:species=273063])0.994:0.4218[&&NHX:species=],(263820.PTO0416:0.206066[&&NHX:species=263820],673860.AciM339_0977:0.057813[&&NHX:species=673860])0.784:0.110033[&&NHX:species=])1:0.396361[&&NHX:species=],(1051632.TPY_0322:0.160209[&&NHX:species=1051632],((224324999.sul008:0[&&NHX:species=224324999],224324.aq_008:0[&&NHX:species=224324])1:0.545588[&&NHX:species=],(525897.Dbac_2775:0.252455[&&NHX:species=525897],(((637389.Acaty_c0617:0.00868936[&&NHX:species=637389],743299.Acife_2711:0.0103796[&&NHX:species=743299])0.956:0.0998073[&&NHX:species=],(555778.Hneap_0322:0.138849[&&NHX:species=555778],(1158165.KB898880_gene1474:0.0147785[&&NHX:species=1158165],(713587.THITH_14295:0[&&NHX:species=713587],1255043.TVNIR_2575:0[&&NHX:species=1255043])1:0.0164943[&&NHX:species=])0.856:0.059653[&&NHX:species=])0.985:0.149628[&&NHX:species=])0.945:0.124807[&&NHX:species=],1121405.dsmv_3590:0.188087[&&NHX:species=1121405])0.701:0.0371133[&&NHX:species=])0.728:0.0574818[&&NHX:species=])0.864:0.151302[&&NHX:species=])1:0.396361[&&NHX:species=]);\n"
     ]
    }
   ],
   "source": [
    "!head -n1  data/marker_newicks.txt"
   ]
  },
  {
   "cell_type": "code",
   "execution_count": 12,
   "metadata": {},
   "outputs": [
    {
     "name": "stdout",
     "output_type": "stream",
     "text": [
      "source          | ref             | E.size  | nRF     | RF      | maxRF   | src-br+ | ref-br+ | subtre+ | treekoD\n",
      "==============+ | ==============+ | ======+ | ======+ | ======+ | ======+ | ======+ | ======+ | ======+ | ======+\n",
      "(..):0.150673[+ | data/sptree.nw  | 15      | 0.15    | 4.00    | 26.00   | 0.85    | 0.85    | 1       | NA     \n",
      "(..):0.127376[+ | data/sptree.nw  | 15      | 0.31    | 8.00    | 26.00   | 0.69    | 0.69    | 1       | NA     \n",
      "(..):0.124752[+ | data/sptree.nw  | 15      | 0.15    | 4.00    | 26.00   | 0.85    | 0.85    | 1       | NA     \n",
      "(..):0.0779984+ | data/sptree.nw  | 15      | 0.38    | 10.00   | 26.00   | 0.62    | 0.62    | 1       | NA     \n",
      "(..):0.108294[+ | data/sptree.nw  | 15      | 0.08    | 2.00    | 26.00   | 0.92    | 0.92    | 1       | NA     \n",
      "(..):0.0603368+ | data/sptree.nw  | 15      | 0.23    | 6.00    | 26.00   | 0.77    | 0.77    | 1       | NA     \n",
      "(..):0.230297[+ | data/sptree.nw  | 15      | 0.31    | 8.00    | 26.00   | 0.69    | 0.69    | 1       | NA     \n",
      "(..)[&&NHX:spe+ | data/sptree.nw  | 15      | 0.38    | 10.00   | 26.00   | 0.62    | 0.62    | 1       | NA     \n",
      "(..):0.0727829+ | data/sptree.nw  | 15      | 0.08    | 2.00    | 26.00   | 0.92    | 0.92    | 1       | NA     \n",
      "(..):0.200598[+ | data/sptree.nw  | 15      | 0.08    | 2.00    | 26.00   | 0.92    | 0.92    | 1       | NA     \n",
      "(..):0.271358[+ | data/sptree.nw  | 15      | 0.08    | 2.00    | 26.00   | 0.92    | 0.92    | 1       | NA     \n",
      "(..):0.231695[+ | data/sptree.nw  | 15      | 0.15    | 4.00    | 26.00   | 0.85    | 0.85    | 1       | NA     \n",
      "(..)111:0.2686+ | data/sptree.nw  | 15      | 0.08    | 2.00    | 26.00   | 0.92    | 0.92    | 1       | NA     \n",
      "(..):0.173326[+ | data/sptree.nw  | 15      | 0.15    | 4.00    | 26.00   | 0.85    | 0.85    | 1       | NA     \n",
      "(..):0.114569[+ | data/sptree.nw  | 15      | 0.00    | 0.00    | 26.00   | 1.00    | 1.00    | 1       | NA     \n",
      "(..):0[&&NHX:s+ | data/sptree.nw  | 15      | 0.38    | 10.00   | 26.00   | 0.62    | 0.62    | 1       | NA     \n",
      "(..):0.318156[+ | data/sptree.nw  | 15      | 0.31    | 8.00    | 26.00   | 0.69    | 0.69    | 1       | NA     \n",
      "(..)427102[&&N+ | data/sptree.nw  | 15      | 0.23    | 6.00    | 26.00   | 0.77    | 0.77    | 1       | NA     \n",
      "(..):0.164089[+ | data/sptree.nw  | 15      | 0.15    | 4.00    | 26.00   | 0.85    | 0.85    | 1       | NA     \n",
      "(..):0.2124[&&+ | data/sptree.nw  | 15      | 0.15    | 4.00    | 26.00   | 0.85    | 0.85    | 1       | NA     \n",
      "(..)654078[&&N+ | data/sptree.nw  | 15      | 0.38    | 10.00   | 26.00   | 0.62    | 0.62    | 1       | NA     \n",
      "(..):0.247714[+ | data/sptree.nw  | 15      | 0.08    | 2.00    | 26.00   | 0.92    | 0.92    | 1       | NA     \n",
      "(..):0.202681[+ | data/sptree.nw  | 15      | 0.23    | 6.00    | 26.00   | 0.77    | 0.77    | 1       | NA     \n",
      "(..):0.228005[+ | data/sptree.nw  | 15      | 0.08    | 2.00    | 26.00   | 0.92    | 0.92    | 1       | NA     \n",
      "(..)0.340406[&+ | data/sptree.nw  | 15      | 0.31    | 8.00    | 26.00   | 0.69    | 0.69    | 1       | NA     \n",
      "(..):0.309766[+ | data/sptree.nw  | 15      | 0.15    | 4.00    | 26.00   | 0.85    | 0.85    | 1       | NA     \n",
      "(..)0.136987[&+ | data/sptree.nw  | 15      | 0.31    | 8.00    | 26.00   | 0.69    | 0.69    | 1       | NA     \n",
      "(..):0.176428[+ | data/sptree.nw  | 15      | 0.08    | 2.00    | 26.00   | 0.92    | 0.92    | 1       | NA     \n",
      "(..)_gene2187:+ | data/sptree.nw  | 15      | 0.38    | 10.00   | 26.00   | 0.62    | 0.62    | 1       | NA     \n",
      "(..)09399[&&NH+ | data/sptree.nw  | 15      | 0.46    | 12.00   | 26.00   | 0.54    | 0.54    | 1       | NA     \n",
      "(..):0.160407[+ | data/sptree.nw  | 15      | 0.23    | 6.00    | 26.00   | 0.77    | 0.77    | 1       | NA     \n",
      "(..):0.329947[+ | data/sptree.nw  | 15      | 0.00    | 0.00    | 26.00   | 1.00    | 1.00    | 1       | NA     \n",
      "(..):0.115612[+ | data/sptree.nw  | 15      | 0.00    | 0.00    | 26.00   | 1.00    | 1.00    | 1       | NA     \n",
      "(..):0.153138[+ | data/sptree.nw  | 15      | 0.00    | 0.00    | 26.00   | 1.00    | 1.00    | 1       | NA     \n"
     ]
    }
   ],
   "source": [
    "# TASK: Run ete3 compare to measure the Robinson Foulds distance of each marker gene tree to the reference species tree\n",
    "\n",
    "!ete3 compare --src_tree_list \"data/marker_newicks.txt\" -r \"data/sptree.nw\" --src_tree_attr \"species\"\n"
   ]
  },
  {
   "cell_type": "markdown",
   "metadata": {},
   "source": [
    "## Compare trees programmatically "
   ]
  },
  {
   "cell_type": "code",
   "execution_count": 32,
   "metadata": {},
   "outputs": [
    {
     "name": "stdout",
     "output_type": "stream",
     "text": [
      "224324.aq_072\n",
      "273063.STK_12580\n",
      "224324999.sul1945\n",
      "224324999.sul1939\n"
     ]
    }
   ],
   "source": [
    "# TASK: How many gene trees are identical to the species tree? Can you locate them?\n",
    "from ete3 import PhyloTree\n",
    "sptree = PhyloTree('data/sptree.nw')\n",
    "\n",
    "for tname in sptree_markers:\n",
    "    genetree = all_trees[tname]\n",
    "    c = genetree.compare(sptree, source_tree_attr=\"species\")\n",
    "    if c['rf'] == 0:\n",
    "        print (tname)"
   ]
  },
  {
   "cell_type": "code",
   "execution_count": 33,
   "metadata": {},
   "outputs": [
    {
     "name": "stdout",
     "output_type": "stream",
     "text": [
      "Counter({('273063', '933801'): 34,\n",
      "         ('637389', '743299'): 34,\n",
      "         ('224324', '224324999'): 34,\n",
      "         ('1051632', '1121405', '1158165', '1255043', '224324', '224324999', '263820', '273063', '525897', '555778', '637389', '673860', '713587', '743299', '933801'): 34,\n",
      "         ('1255043', '713587'): 33,\n",
      "         ('1158165', '1255043', '713587'): 32,\n",
      "         ('1158165', '1255043', '555778', '637389', '713587', '743299'): 31,\n",
      "         ('1051632', '1121405', '1158165', '1255043', '224324', '224324999', '525897', '555778', '637389', '713587', '743299'): 29,\n",
      "         ('263820', '273063', '673860', '933801'): 29,\n",
      "         ('263820', '673860'): 28,\n",
      "         ('1158165', '1255043', '555778', '713587'): 24,\n",
      "         ('1051632', '1121405', '1158165', '1255043', '525897', '555778', '637389', '713587', '743299'): 21,\n",
      "         ('1121405', '525897'): 17,\n",
      "         ('1121405', '1158165', '1255043', '525897', '555778', '637389', '713587', '743299'): 11})\n"
     ]
    }
   ],
   "source": [
    "      \n",
    "# TASK: is there any clade fully supported? What is the least supported clade?\n",
    "from collections import Counter\n",
    "from pprint import pprint\n",
    "edges = Counter()\n",
    "for tname in sptree_markers:\n",
    "    genetree = all_trees[tname]\n",
    "    c = genetree.compare(sptree, source_tree_attr=\"species\")\n",
    "    edges.update(c[\"common_edges\"])\n",
    "\n",
    "pprint(edges)"
   ]
  },
  {
   "cell_type": "markdown",
   "metadata": {},
   "source": [
    "## Annotate gene tree support in the species tree?"
   ]
  }
 ],
 "metadata": {
  "kernelspec": {
   "display_name": "Python 3",
   "language": "python",
   "name": "python3"
  },
  "language_info": {
   "codemirror_mode": {
    "name": "ipython",
    "version": 3
   },
   "file_extension": ".py",
   "mimetype": "text/x-python",
   "name": "python",
   "nbconvert_exporter": "python",
   "pygments_lexer": "ipython3",
   "version": "3.6.10"
  }
 },
 "nbformat": 4,
 "nbformat_minor": 4
}
