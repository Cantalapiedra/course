{
 "cells": [
  {
   "cell_type": "markdown",
   "metadata": {},
   "source": [
    "# Loading Phylogenies as ETE PhyloTree instances\n",
    "\n",
    "Once all trees are computed, we want to start analyzing them. Let's first load them as Python objects. \n"
   ]
  },
  {
   "cell_type": "markdown",
   "metadata": {},
   "source": [
    "**TASK**: Read all trees and load them into a dictionary. Store the dictionary `all_trees` as a pickle file (`data/alltrees.pkl`) \n",
    "\n",
    "Tips:\n",
    "- Use PhyloTree instances and provide a species name parser\n"
   ]
  },
  {
   "cell_type": "code",
   "execution_count": 2,
   "metadata": {},
   "outputs": [
    {
     "name": "stdout",
     "output_type": "stream",
     "text": [
      "Trees loaded: 2605\n"
     ]
    }
   ],
   "source": [
    "# Read all trees and load them into a dictionary. Store the dictionary 'all_trees' as pickle file (data/alltrees.pkl) \n",
    "import pickle\n",
    "import os\n",
    "from ete3 import PhyloTree\n",
    "\n",
    "def extract_spcode(nodename):\n",
    "    return nodename.split('.')[0]\n",
    "\n",
    "# Load all trees\n",
    "all_trees = {}\n",
    "for basename in open(\"data/target_families.txt\"):\n",
    "    basename = basename.strip()\n",
    "    tree_file = 'data/phylo/%s/mafft_default-none-none-fasttree_default/%s.faa.final_tree.nw' %(basename, basename)\n",
    "    if os.path.exists(tree_file):\n",
    "        t = PhyloTree(tree_file, sp_naming_function=extract_spcode)\n",
    "        all_trees[basename] = t\n",
    "        \n",
    "print(\"Trees loaded:\", len(all_trees))\n",
    "\n",
    "with open('data/alltrees.pkl', 'wb') as ALLTREES:\n",
    "    pickle.dump(all_trees, ALLTREES)"
   ]
  },
  {
   "cell_type": "markdown",
   "metadata": {},
   "source": [
    "**Tip:** To load all trees back in other notebooks, you can now do it like this: "
   ]
  },
  {
   "cell_type": "code",
   "execution_count": 3,
   "metadata": {},
   "outputs": [
    {
     "name": "stdout",
     "output_type": "stream",
     "text": [
      "Trees loaded: 2605\n"
     ]
    }
   ],
   "source": [
    "import pickle\n",
    "def extract_spcode(nodename):\n",
    "    return nodename.split('.')[0]\n",
    "\n",
    "all_trees = pickle.load(open('data/alltrees.pkl', 'rb'))\n",
    "print(\"Trees loaded:\", len(all_trees))\n"
   ]
  },
  {
   "cell_type": "markdown",
   "metadata": {},
   "source": [
    "### Let's try some Basic tree operations"
   ]
  },
  {
   "cell_type": "code",
   "execution_count": 4,
   "metadata": {},
   "outputs": [
    {
     "name": "stdout",
     "output_type": "stream",
     "text": [
      "We can quickly print it:\n",
      "\n",
      "      /-525897.Dbac_2405\n",
      "   /-|\n",
      "  |   \\-555778.Hneap_1768\n",
      "--|\n",
      "  |      /-637389.Acaty_c1916\n",
      "  |   /-|\n",
      "   \\-|   \\-637389.Acaty_c1239\n",
      "     |\n",
      "      \\-1158165.KB898877_gene1259\n",
      "\n",
      "Get the list of species and sequences included:\n",
      "  Species in tree: {'637389', '525897', '555778', '1158165'}\n",
      "  Seqs in tree: ['525897.Dbac_2405', '555778.Hneap_1768', '637389.Acaty_c1916', '637389.Acaty_c1239', '1158165.KB898877_gene1259']\n",
      "\n",
      "Find nodes by name and read attributes:\n",
      "           Name: 1158165.KB898877_gene1259\n",
      "        Species: 1158165\n",
      "  Branch length: 0.746139\n",
      "\n",
      "Find internal nodes:\n",
      "\n",
      "      /-637389.Acaty_c1916\n",
      "   /-|\n",
      "--|   \\-637389.Acaty_c1239\n",
      "  |\n",
      "   \\-1158165.KB898877_gene1259\n",
      "\n",
      "Measure distances:\n",
      "branch lenght dist: 0.746139\n",
      "topology distance: 3.0\n",
      "\n",
      "Or even render an image of any node:\n"
     ]
    },
    {
     "data": {
      "image/png": "[encoded data removed]",
      "text/plain": [
       "<IPython.core.display.Image object>"
      ]
     },
     "execution_count": 4,
     "metadata": {},
     "output_type": "execute_result"
    }
   ],
   "source": [
    "# Lest's grab the first list in the list\n",
    "t = all_trees[\"555778.Hneap_1768\"]\n",
    "\n",
    "# Now let's explore basic operations: \n",
    "\n",
    "print(\"We can quickly print it:\")\n",
    "print(t)\n",
    "\n",
    "print(\"\\nGet the list of species and sequences included:\")\n",
    "print(\"  Species in tree:\", t.get_species())\n",
    "print(\"  Seqs in tree:\", t.get_leaf_names())\n",
    "\n",
    "\n",
    "print(\"\\nFind nodes by name and read attributes:\")\n",
    "leaf_node = t & \"1158165.KB898877_gene1259\"\n",
    "print(\"           Name:\", leaf_node.name)\n",
    "print(\"        Species:\", leaf_node.species)\n",
    "print(\"  Branch length:\", leaf_node.dist)\n",
    "\n",
    "\n",
    "print(\"\\nFind internal nodes:\")\n",
    "internal_node = t.get_common_ancestor(\"1158165.KB898877_gene1259\", \"637389.Acaty_c1916\")\n",
    "print(internal_node)\n",
    "\n",
    "print(\"\\nMeasure distances:\")\n",
    "distance = t.get_distance(internal_node, leaf_node)\n",
    "topo_distance = t.get_distance(\"525897.Dbac_2405\", leaf_node, topology_only=True)\n",
    "print(\"branch lenght dist:\", distance)\n",
    "print(\"topology distance:\", topo_distance)\n",
    "\n",
    "print(\"\\nOr even render an image of any node:\")\n",
    "internal_node.render('%%inline')\n",
    "\n"
   ]
  },
  {
   "cell_type": "markdown",
   "metadata": {},
   "source": [
    "### You can interact with the trees using a Graphical User Interface (GUI)\n",
    "\n"
   ]
  },
  {
   "cell_type": "code",
   "execution_count": 5,
   "metadata": {},
   "outputs": [],
   "source": [
    "# Load a tree and view \n",
    "t = all_trees[\"555778.Hneap_1768\"]\n",
    "t.show()"
   ]
  },
  {
   "cell_type": "markdown",
   "metadata": {},
   "source": [
    "(note that any modification done with the GUI, is kept in the tree instance when you close the GUI)\n"
   ]
  },
  {
   "cell_type": "code",
   "execution_count": 20,
   "metadata": {},
   "outputs": [
    {
     "name": "stdout",
     "output_type": "stream",
     "text": [
      "\n",
      "   /-637389.Acaty_c1916\n",
      "--|\n",
      "  |   /-637389.Acaty_c1239\n",
      "   \\-|\n",
      "     |   /-1158165.KB898877_gene1259\n",
      "      \\-|\n",
      "        |   /-525897.Dbac_2405\n",
      "         \\-|\n",
      "            \\-555778.Hneap_1768\n"
     ]
    }
   ],
   "source": [
    "# print back after a mofication\n",
    "print(t)"
   ]
  }
 ],
 "metadata": {
  "kernelspec": {
   "display_name": "Python 3",
   "language": "python",
   "name": "python3"
  },
  "language_info": {
   "codemirror_mode": {
    "name": "ipython",
    "version": 3
   },
   "file_extension": ".py",
   "mimetype": "text/x-python",
   "name": "python",
   "nbconvert_exporter": "python",
   "pygments_lexer": "ipython3",
   "version": "3.6.11"
  }
 },
 "nbformat": 4,
 "nbformat_minor": 4
}
